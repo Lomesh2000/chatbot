{
 "cells": [
  {
   "cell_type": "code",
   "execution_count": 1,
   "id": "9007047b-2047-45fa-8435-53138e5d2b56",
   "metadata": {},
   "outputs": [
    {
     "name": "stderr",
     "output_type": "stream",
     "text": [
      "Backing off send_request(...) for 8.2s (requests.exceptions.ConnectionError: HTTPSConnectionPool(host='api.segment.io', port=443): Max retries exceeded with url: /v1/batch (Caused by NewConnectionError('<urllib3.connection.HTTPSConnection object at 0x0000024B07725F10>: Failed to establish a new connection: [Errno 11001] getaddrinfo failed')))\n"
     ]
    }
   ],
   "source": [
    "from functions import predict_class,clean_up_sentence,bow,getResponse,chatbot_response\n",
    "import keras\n",
    "import json\n",
    "import random\n",
    "import pickle\n",
    "intents = json.loads(open('intents.json').read())\n",
    "words = pickle.load(open('words.pkl','rb'))\n",
    "classes = pickle.load(open('classes.pkl','rb'))"
   ]
  },
  {
   "cell_type": "code",
   "execution_count": 2,
   "id": "42eb91ee-c494-4fa4-be1c-522273b7e5b3",
   "metadata": {},
   "outputs": [],
   "source": [
    "sentence=\"how are you\""
   ]
  },
  {
   "cell_type": "code",
   "execution_count": 3,
   "id": "260705da-1b92-43aa-92c6-37a70fd33c23",
   "metadata": {},
   "outputs": [],
   "source": [
    "model=keras.models.load_model('chatbot_model.h5')"
   ]
  },
  {
   "cell_type": "code",
   "execution_count": 4,
   "id": "8438514b-75cc-4849-9534-ec1a277fc24f",
   "metadata": {},
   "outputs": [],
   "source": [
    "third=predict_class(sentence,model)"
   ]
  },
  {
   "cell_type": "code",
   "execution_count": 5,
   "id": "0a0a7207-06ba-429d-ab3a-8a1aef708165",
   "metadata": {},
   "outputs": [
    {
     "data": {
      "text/plain": [
       "[{'intent': 'greeting', 'probability': '0.9999957'}]"
      ]
     },
     "execution_count": 5,
     "metadata": {},
     "output_type": "execute_result"
    }
   ],
   "source": [
    "third"
   ]
  },
  {
   "cell_type": "code",
   "execution_count": 6,
   "id": "be544a05-84b5-41c7-91df-8b5b15ecd188",
   "metadata": {},
   "outputs": [
    {
     "data": {
      "text/plain": [
       "'Hello, thanks for asking'"
      ]
     },
     "execution_count": 6,
     "metadata": {},
     "output_type": "execute_result"
    },
    {
     "name": "stderr",
     "output_type": "stream",
     "text": [
      "Backing off send_request(...) for 5.9s (requests.exceptions.ConnectionError: HTTPSConnectionPool(host='api.segment.io', port=443): Max retries exceeded with url: /v1/batch (Caused by NewConnectionError('<urllib3.connection.HTTPSConnection object at 0x0000024B077C6310>: Failed to establish a new connection: [Errno 11001] getaddrinfo failed')))\n",
      "Backing off send_request(...) for 37.5s (requests.exceptions.ConnectionError: HTTPSConnectionPool(host='api.segment.io', port=443): Max retries exceeded with url: /v1/batch (Caused by NewConnectionError('<urllib3.connection.HTTPSConnection object at 0x0000024B077C6040>: Failed to establish a new connection: [Errno 11001] getaddrinfo failed')))\n",
      "Backing off send_request(...) for 61.6s (requests.exceptions.ConnectionError: HTTPSConnectionPool(host='api.segment.io', port=443): Max retries exceeded with url: /v1/batch (Caused by NewConnectionError('<urllib3.connection.HTTPSConnection object at 0x0000024B07850F40>: Failed to establish a new connection: [Errno 11001] getaddrinfo failed')))\n",
      "Backing off send_request(...) for 155.2s (requests.exceptions.ConnectionError: HTTPSConnectionPool(host='api.segment.io', port=443): Max retries exceeded with url: /v1/batch (Caused by NewConnectionError('<urllib3.connection.HTTPSConnection object at 0x0000024B14A9DA90>: Failed to establish a new connection: [Errno 11001] getaddrinfo failed')))\n",
      "Backing off send_request(...) for 387.6s (requests.exceptions.ConnectionError: HTTPSConnectionPool(host='api.segment.io', port=443): Max retries exceeded with url: /v1/batch (Caused by NewConnectionError('<urllib3.connection.HTTPSConnection object at 0x0000024B140F6D90>: Failed to establish a new connection: [Errno 11001] getaddrinfo failed')))\n",
      "Giving up send_request(...) after 11 tries (requests.exceptions.ConnectionError: HTTPSConnectionPool(host='api.segment.io', port=443): Max retries exceeded with url: /v1/batch (Caused by NewConnectionError('<urllib3.connection.HTTPSConnection object at 0x0000024B140F6D90>: Failed to establish a new connection: [Errno 11001] getaddrinfo failed')))\n",
      "error uploading: HTTPSConnectionPool(host='api.segment.io', port=443): Max retries exceeded with url: /v1/batch (Caused by NewConnectionError('<urllib3.connection.HTTPSConnection object at 0x0000024B140F6D90>: Failed to establish a new connection: [Errno 11001] getaddrinfo failed'))\n",
      "Backing off send_request(...) for 0.8s (requests.exceptions.ConnectionError: HTTPSConnectionPool(host='api.segment.io', port=443): Max retries exceeded with url: /v1/batch (Caused by NewConnectionError('<urllib3.connection.HTTPSConnection object at 0x0000024B07725670>: Failed to establish a new connection: [Errno 11001] getaddrinfo failed')))\n",
      "Backing off send_request(...) for 1.8s (requests.exceptions.ConnectionError: HTTPSConnectionPool(host='api.segment.io', port=443): Max retries exceeded with url: /v1/batch (Caused by NewConnectionError('<urllib3.connection.HTTPSConnection object at 0x0000024B077258E0>: Failed to establish a new connection: [Errno 11001] getaddrinfo failed')))\n",
      "Backing off send_request(...) for 1.7s (requests.exceptions.ConnectionError: HTTPSConnectionPool(host='api.segment.io', port=443): Max retries exceeded with url: /v1/batch (Caused by NewConnectionError('<urllib3.connection.HTTPSConnection object at 0x0000024B07725670>: Failed to establish a new connection: [Errno 11001] getaddrinfo failed')))\n",
      "Backing off send_request(...) for 1.7s (requests.exceptions.ConnectionError: HTTPSConnectionPool(host='api.segment.io', port=443): Max retries exceeded with url: /v1/batch (Caused by NewConnectionError('<urllib3.connection.HTTPSConnection object at 0x0000024B077258E0>: Failed to establish a new connection: [Errno 11001] getaddrinfo failed')))\n",
      "Backing off send_request(...) for 10.6s (requests.exceptions.ConnectionError: HTTPSConnectionPool(host='api.segment.io', port=443): Max retries exceeded with url: /v1/batch (Caused by NewConnectionError('<urllib3.connection.HTTPSConnection object at 0x0000024B07725670>: Failed to establish a new connection: [Errno 11001] getaddrinfo failed')))\n",
      "Backing off send_request(...) for 13.0s (requests.exceptions.ConnectionError: HTTPSConnectionPool(host='api.segment.io', port=443): Max retries exceeded with url: /v1/batch (Caused by NewConnectionError('<urllib3.connection.HTTPSConnection object at 0x0000024B077258E0>: Failed to establish a new connection: [Errno 11001] getaddrinfo failed')))\n",
      "Backing off send_request(...) for 44.0s (requests.exceptions.ConnectionError: HTTPSConnectionPool(host='api.segment.io', port=443): Max retries exceeded with url: /v1/batch (Caused by NewConnectionError('<urllib3.connection.HTTPSConnection object at 0x0000024B07725670>: Failed to establish a new connection: [Errno 11001] getaddrinfo failed')))\n",
      "Backing off send_request(...) for 32.1s (requests.exceptions.ConnectionError: HTTPSConnectionPool(host='api.segment.io', port=443): Max retries exceeded with url: /v1/batch (Caused by NewConnectionError('<urllib3.connection.HTTPSConnection object at 0x0000024B077258E0>: Failed to establish a new connection: [Errno 11001] getaddrinfo failed')))\n",
      "Backing off send_request(...) for 194.5s (requests.exceptions.ConnectionError: HTTPSConnectionPool(host='api.segment.io', port=443): Max retries exceeded with url: /v1/batch (Caused by NewConnectionError('<urllib3.connection.HTTPSConnection object at 0x0000024B07725670>: Failed to establish a new connection: [Errno 11001] getaddrinfo failed')))\n"
     ]
    }
   ],
   "source": [
    "chatbot_response(sentence,model,intents)"
   ]
  },
  {
   "cell_type": "code",
   "execution_count": null,
   "id": "51cde49f-73bc-49a0-bbc0-bd8fda65ec90",
   "metadata": {},
   "outputs": [],
   "source": []
  }
 ],
 "metadata": {
  "kernelspec": {
   "display_name": "Python 3 (ipykernel)",
   "language": "python",
   "name": "python3"
  },
  "language_info": {
   "codemirror_mode": {
    "name": "ipython",
    "version": 3
   },
   "file_extension": ".py",
   "mimetype": "text/x-python",
   "name": "python",
   "nbconvert_exporter": "python",
   "pygments_lexer": "ipython3",
   "version": "3.8.10"
  }
 },
 "nbformat": 4,
 "nbformat_minor": 5
}
